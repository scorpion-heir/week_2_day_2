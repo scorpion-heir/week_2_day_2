{
 "cells": [
  {
   "cell_type": "code",
   "execution_count": 1,
   "metadata": {},
   "outputs": [
    {
     "name": "stdout",
     "output_type": "stream",
     "text": [
      "please enter numbers 1-4 to select from the following menu: \n",
      "\t1. add items in your cart; \n",
      "\t2. delete items in your cart; \n",
      "\t3. view current shopping cart; \n",
      "\t4. quit and ready to check out. 1\n",
      "What would you like to add? egg\n",
      "anything else? \n",
      "enter 'q' to get back to main menu. marshmello\n",
      "anything else? \n",
      "enter 'q' to get back to main menu. q\n",
      "please enter numbers 1-4 to select from the following menu: \n",
      "\t1. add items in your cart; \n",
      "\t2. delete items in your cart; \n",
      "\t3. view current shopping cart; \n",
      "\t4. quit and ready to check out. 2\n",
      "What would you like to delete? egg\n",
      "anything else? \n",
      "enter 'q' to get back to main menu. q\n",
      "please enter numbers 1-4 to select from the following menu: \n",
      "\t1. add items in your cart; \n",
      "\t2. delete items in your cart; \n",
      "\t3. view current shopping cart; \n",
      "\t4. quit and ready to check out. 3\n",
      "['marshmello']\n",
      "please enter numbers 1-4 to select from the following menu: \n",
      "\t1. add items in your cart; \n",
      "\t2. delete items in your cart; \n",
      "\t3. view current shopping cart; \n",
      "\t4. quit and ready to check out. 4\n",
      "['marshmello']\n"
     ]
    }
   ],
   "source": [
    "shopping_lst = []\n",
    "while True:\n",
    "  prompt = \"please enter numbers 1-4 to select from the following menu: \\n\\t1. add items in your cart; \\n\\t2. delete items in your cart; \\n\\t3. view current shopping cart; \\n\\t4. quit and ready to check out. \"\n",
    "  choice = int(input(prompt))\n",
    "  \n",
    "  if choice == 4:\n",
    "    print(shopping_lst)\n",
    "    break\n",
    "  elif choice == 1:\n",
    "    add_item = input(\"What would you like to add? \")\n",
    "    if add_item == 'q':\n",
    "      break\n",
    "    else:  \n",
    "      shopping_lst.append(add_item)\n",
    "      add_more_item = \"\"\n",
    "      while add_more_item != 'q':\n",
    "        add_more_item = input(\"anything else? \\nenter 'q' to get back to main menu. \")\n",
    "        if add_more_item == 'q':\n",
    "          break\n",
    "        else:\n",
    "          shopping_lst.append(add_more_item)\n",
    "  elif choice == 2:\n",
    "    rm_item = input(\"What would you like to delete? \")\n",
    "    if rm_item == 'q':\n",
    "      break\n",
    "    else:  \n",
    "      shopping_lst.remove(rm_item)\n",
    "      rm_more_item = \"\"\n",
    "      while rm_more_item != 'q':\n",
    "        rm_more_item = input(\"anything else? \\nenter 'q' to get back to main menu. \")\n",
    "        if rm_more_item == 'q':\n",
    "          break\n",
    "        else:\n",
    "          shopping_lst.remove(rm_more_item)\n",
    "  elif choice == 3:\n",
    "    print(shopping_lst)\n",
    "\n",
    "\n",
    "\n",
    "\n"
   ]
  },
  {
   "cell_type": "code",
   "execution_count": 2,
   "metadata": {},
   "outputs": [
    {
     "name": "stdout",
     "output_type": "stream",
     "text": [
      "24\n",
      "12\n"
     ]
    }
   ],
   "source": [
    "import my_module as mod\n",
    "\n",
    "print(mod.circle_c(3,4))\n",
    "print(mod.room_sqft(3,4))"
   ]
  },
  {
   "cell_type": "code",
   "execution_count": null,
   "metadata": {},
   "outputs": [],
   "source": []
  },
  {
   "cell_type": "code",
   "execution_count": null,
   "metadata": {},
   "outputs": [],
   "source": []
  }
 ],
 "metadata": {
  "kernelspec": {
   "display_name": "Python 3",
   "language": "python",
   "name": "python3"
  },
  "language_info": {
   "codemirror_mode": {
    "name": "ipython",
    "version": 3
   },
   "file_extension": ".py",
   "mimetype": "text/x-python",
   "name": "python",
   "nbconvert_exporter": "python",
   "pygments_lexer": "ipython3",
   "version": "3.8.5"
  }
 },
 "nbformat": 4,
 "nbformat_minor": 4
}
